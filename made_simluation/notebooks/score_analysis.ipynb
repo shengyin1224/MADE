{
 "cells": [
  {
   "cell_type": "code",
   "execution_count": 1,
   "metadata": {},
   "outputs": [],
   "source": [
    "import os\n",
    "import pickle\n",
    "import numpy as np\n",
    "import matplotlib.pyplot as plt\n",
    "%matplotlib inline"
   ]
  },
  {
   "cell_type": "code",
   "execution_count": null,
   "metadata": {},
   "outputs": [],
   "source": [
    "!pwd"
   ]
  },
  {
   "cell_type": "code",
   "execution_count": 2,
   "metadata": {},
   "outputs": [],
   "source": [
    "def compare_hist(path1, path2):\n",
    "    with open(os.path.join(\"/DB/data/yanghengzhao/adversarial/DAMC/yanghengzhao/disco-net/experiments/\", path1, \"result.pkl\"), 'rb') as f:\n",
    "        result = pickle.load(f)\n",
    "    all_scores = np.concatenate(result['score'])\n",
    "    all_labels = np.concatenate(result['label'])\n",
    "    scores1 = all_scores[all_labels == 1]\n",
    "\n",
    "    with open(os.path.join(\"/DB/data/yanghengzhao/adversarial/DAMC/yanghengzhao/disco-net/experiments/\", path2, \"result.pkl\"), 'rb') as f:\n",
    "        result = pickle.load(f)\n",
    "    all_scores = np.concatenate(result['score'])\n",
    "    all_labels = np.concatenate(result['label'])\n",
    "    scores2 = all_scores[all_labels == 1]\n",
    "\n",
    "    plt.hist(scores1, 100, label=path1)\n",
    "    plt.hist(scores2, 100, label=path2)\n",
    "    plt.legend()"
   ]
  },
  {
   "cell_type": "code",
   "execution_count": null,
   "metadata": {},
   "outputs": [],
   "source": [
    "with open(\"/DB/data/yanghengzhao/adversarial/DAMC/yanghengzhao/disco-net/experiments/raw_ae/N01_E1e-01_S10/result.pkl\", 'rb') as f:\n",
    "    result = pickle.load(f)\n",
    "all_scores = np.concatenate(result['score'])\n",
    "all_labels = np.concatenate(result['label'])\n",
    "perturbed_score = all_scores[all_labels == 1]\n",
    "\n",
    "with open(\"/DB/data/yanghengzhao/adversarial/DAMC/yanghengzhao/disco-net/experiments/raw_ae/normal/result.pkl\", 'rb') as f:\n",
    "    result = pickle.load(f)\n",
    "all_scores = np.concatenate(result['score'])\n",
    "all_labels = np.concatenate(result['label'])\n",
    "normal_score = all_scores[all_labels == 1]"
   ]
  },
  {
   "cell_type": "code",
   "execution_count": null,
   "metadata": {},
   "outputs": [],
   "source": [
    "plt.hist(normal_score, 100)\n",
    "plt.hist(perturbed_score, 100)\n",
    "plt.show()"
   ]
  },
  {
   "cell_type": "code",
   "execution_count": null,
   "metadata": {},
   "outputs": [],
   "source": [
    "compare_hist(\"raw_ae/N01_E1e-01_S10\", \"raw_ae/normal\")"
   ]
  },
  {
   "cell_type": "code",
   "execution_count": null,
   "metadata": {},
   "outputs": [],
   "source": [
    "compare_hist(\"raw_ae/N01_E5e-01_S20_sparse_pos\", \"raw_ae/normal\")"
   ]
  },
  {
   "cell_type": "code",
   "execution_count": null,
   "metadata": {},
   "outputs": [],
   "source": [
    "compare_hist(\"residual_ae/N01_E5e-01_S20_sparse_pos\", \"residual_ae/normal\")"
   ]
  },
  {
   "cell_type": "code",
   "execution_count": null,
   "metadata": {},
   "outputs": [],
   "source": [
    "compare_hist(\"residual_ae/N01_E1e-01_S10\", \"residual_ae/normal\")"
   ]
  },
  {
   "cell_type": "code",
   "execution_count": null,
   "metadata": {},
   "outputs": [],
   "source": [
    "def print_precision_recall(file):\n",
    "    with open(file, 'rb') as f:\n",
    "        result = pickle.load(f)\n",
    "    label = np.concatenate([l for l in result['label'] if len(l) == 12])\n",
    "    pred = np.concatenate([p for p in result['pred'] if len(p) == 12])\n",
    "    tp = ((label == 1) & (pred == 1)).sum()\n",
    "    tn = ((label == 0) & (pred == 0)).sum()\n",
    "    fp = ((label == 0) & (pred == 1)).sum()\n",
    "    fn = ((label == 1) & (pred == 0)).sum()\n",
    "\n",
    "    print(f\"tp:{tp}, tn:{tn}, fp:{fp}, fn:{fn}\")\n",
    "    print(f\"Precision: {tp / (tp + fp)}, Recall: {tp / (tp + fn)}\")"
   ]
  },
  {
   "cell_type": "code",
   "execution_count": null,
   "metadata": {},
   "outputs": [],
   "source": [
    "with open(\"/DB/data/yanghengzhao/adversarial/DAMC/yanghengzhao/disco-net/experiments/residual_ae/N01_E1e-01_S10/result.pkl\", 'rb') as f:\n",
    "    result = pickle.load(f)\n",
    "score = np.concatenate(result['score'])\n",
    "label = np.concatenate([l for l in result['label'] if len(l) == 12])\n",
    "pred = np.concatenate([p for p in result['pred'] if len(p) == 12])\n",
    "tp = ((label == 1) & (pred == 1)).sum()\n",
    "tn = ((label == 0) & (pred == 0)).sum()\n",
    "fp = ((label == 0) & (pred == 1)).sum()\n",
    "fn = ((label == 1) & (pred == 0)).sum()\n",
    "\n",
    "print(f\"tp:{tp}, tn:{tn}, fp:{fp}, fn:{fn}\")\n",
    "print(f\"Precision: {tp / (tp + fp)}, Recall: {tp / (tp + fn)}\")\n"
   ]
  },
  {
   "cell_type": "code",
   "execution_count": null,
   "metadata": {},
   "outputs": [],
   "source": [
    "print_precision_recall(\"/DB/data/yanghengzhao/adversarial/DAMC/yanghengzhao/disco-net/experiments/multi-test/N01_E1e-01_S10/result.pkl\")"
   ]
  },
  {
   "cell_type": "code",
   "execution_count": null,
   "metadata": {},
   "outputs": [],
   "source": [
    "\n",
    "print_precision_recall(\"/DB/data/yanghengzhao/adversarial/DAMC/yanghengzhao/disco-net/experiments/match_cost_v2/N01_E1e-01_S10/result.pkl\")"
   ]
  },
  {
   "cell_type": "code",
   "execution_count": null,
   "metadata": {},
   "outputs": [],
   "source": [
    "print_precision_recall(\"/DB/data/yanghengzhao/adversarial/DAMC/yanghengzhao/disco-net/experiments/residual_ae_v0/N01_E1e-01_S10/result.pkl\")"
   ]
  },
  {
   "cell_type": "code",
   "execution_count": null,
   "metadata": {},
   "outputs": [],
   "source": [
    "print_precision_recall(\"/DB/data/yanghengzhao/adversarial/DAMC/yanghengzhao/disco-net/experiments/raw_ae/N01_E1e-01_S10/result.pkl\")"
   ]
  },
  {
   "cell_type": "code",
   "execution_count": null,
   "metadata": {},
   "outputs": [],
   "source": [
    "lenth_set = {}\n",
    "for s in result['score']:\n",
    "    lenth_set[len(s)] = 1\n",
    "print(lenth_set)"
   ]
  },
  {
   "cell_type": "markdown",
   "metadata": {},
   "source": [
    "residual_ae use 2, 3 agent scenes in test set as calibration set"
   ]
  },
  {
   "cell_type": "code",
   "execution_count": null,
   "metadata": {},
   "outputs": [],
   "source": [
    "with open(\"/DB/data/yanghengzhao/adversarial/DAMC/yanghengzhao/disco-net/experiments/residual_ae/no_attack/result.pkl\", 'rb') as f:\n",
    "    result = pickle.load(f)\n",
    "calibration_score = np.concatenate([s for s in result['score'] if len(s) != 12])\n",
    "threshold = np.percentile(calibration_score, 95)\n",
    "\n",
    "with open(\"/DB/data/yanghengzhao/adversarial/DAMC/yanghengzhao/disco-net/experiments/residual_ae/N01_E1e-01_S10/result.pkl\", 'rb') as f:\n",
    "    result = pickle.load(f)\n",
    "score = np.concatenate([s for s in result['score'] if len(s) == 12])\n",
    "label = np.concatenate([l for l in result['label'] if len(l) == 12])\n",
    "# score = np.concatenate(result['score'])\n",
    "# label = np.concatenate(result['label'])\n",
    "# pred = np.concatenate([p for p in result['pred'] if len(p) == 12])\n",
    "pred = score > threshold\n",
    "tp = ((label == 1) & (pred == 1)).sum()\n",
    "tn = ((label == 0) & (pred == 0)).sum()\n",
    "fp = ((label == 0) & (pred == 1)).sum()\n",
    "fn = ((label == 1) & (pred == 0)).sum()\n",
    "\n",
    "print(f\"tp:{tp}, tn:{tn}, fp:{fp}, fn:{fn}\")\n",
    "print(f\"Precision: {tp / (tp + fp + 1e-7)}, Recall: {tp / (tp + fn + 1e-7)}\")"
   ]
  },
  {
   "cell_type": "code",
   "execution_count": null,
   "metadata": {},
   "outputs": [],
   "source": [
    "np.save(\"/DB/data/yanghengzhao/adversarial/DAMC/yanghengzhao/disco-net/mreconstruction_loss_validation_v2.npy\", calibration_score)"
   ]
  },
  {
   "cell_type": "markdown",
   "metadata": {},
   "source": [
    "raw_ae use 2, 3 agent scenes in test set as calibration set"
   ]
  },
  {
   "cell_type": "code",
   "execution_count": null,
   "metadata": {},
   "outputs": [],
   "source": [
    "with open(\"/DB/data/yanghengzhao/adversarial/DAMC/yanghengzhao/disco-net/experiments/raw_ae/no_attack/result.pkl\", 'rb') as f:\n",
    "    result = pickle.load(f)\n",
    "calibration_score = np.concatenate([s for s in result['score'] if len(s) != 12])\n",
    "threshold = np.percentile(calibration_score, 95)\n",
    "\n",
    "with open(\"/DB/data/yanghengzhao/adversarial/DAMC/yanghengzhao/disco-net/experiments/raw_ae/N01_E1e-01_S10/result.pkl\", 'rb') as f:\n",
    "    result = pickle.load(f)\n",
    "score = np.concatenate([s for s in result['score'] if len(s) == 12])\n",
    "label = np.concatenate([l for l in result['label'] if len(l) == 12])\n",
    "# score = np.concatenate(result['score'])\n",
    "# label = np.concatenate(result['label'])\n",
    "# pred = np.concatenate([p for p in result['pred'] if len(p) == 12])\n",
    "pred = score > threshold\n",
    "tp = ((label == 1) & (pred == 1)).sum()\n",
    "tn = ((label == 0) & (pred == 0)).sum()\n",
    "fp = ((label == 0) & (pred == 1)).sum()\n",
    "fn = ((label == 1) & (pred == 0)).sum()\n",
    "\n",
    "print(f\"tp:{tp}, tn:{tn}, fp:{fp}, fn:{fn}\")\n",
    "print(f\"Precision: {tp / (tp + fp + 1e-7)}, Recall: {tp / (tp + fn + 1e-7)}\")\n",
    "np.save(\"/DB/data/yanghengzhao/adversarial/DAMC/yanghengzhao/disco-net/mreconstruction_loss_validation_raw.npy\", score)"
   ]
  },
  {
   "cell_type": "code",
   "execution_count": null,
   "metadata": {},
   "outputs": [],
   "source": [
    "train = np.load(\"/DB/data/yanghengzhao/adversarial/DAMC/zhenxiang/autoencoder_residual/reconstruction_losses_residual_train.npy\")\n",
    "cal = np.load(\"/DB/data/yanghengzhao/adversarial/DAMC/zhenxiang/autoencoder_residual/reconstruction_losses_residual.npy\")\n",
    "plt.hist(train, bins=100, label='train')\n",
    "plt.hist(cal, bins=50, label='calibration')\n",
    "plt.legend()\n",
    "plt.show()"
   ]
  },
  {
   "cell_type": "markdown",
   "metadata": {},
   "source": [
    "## attacker detection and AP analysis"
   ]
  },
  {
   "cell_type": "code",
   "execution_count": 3,
   "metadata": {},
   "outputs": [],
   "source": [
    "with open(\"/DB/data/yanghengzhao/adversarial/DAMC/yanghengzhao/disco-net/experiments/match_cost_v2/N01_E1e-01_S10/result.pkl\", 'rb') as f:\n",
    "    mc_result = pickle.load(f)\n",
    "\n",
    "with open(\"/DB/data/yanghengzhao/adversarial/DAMC/yanghengzhao/disco-net/experiments/multi-test-v2/N01_E1e-01_S10/result.pkl\", 'rb') as f:\n",
    "    mt_result = pickle.load(f)\n",
    "\n",
    "with open(\"/DB/data/yanghengzhao/adversarial/DAMC/yanghengzhao/disco-net/experiments/match_cost/N01_E1e-01_S10/AP05.pkl\", 'rb') as f:\n",
    "    aps = pickle.load(f)"
   ]
  },
  {
   "cell_type": "code",
   "execution_count": 4,
   "metadata": {},
   "outputs": [],
   "source": [
    "mc_pred = np.concatenate([p for p in mc_result['pred'] if len(p) == 12])\n",
    "mc_score = np.concatenate([s for s in mc_result['score'] if len(s) == 12])\n",
    "mt_pred = np.concatenate([p for p in mt_result['pred'] if len(p) == 12])\n",
    "label = np.concatenate([l for l in mc_result['label'] if len(l) == 12])"
   ]
  },
  {
   "cell_type": "code",
   "execution_count": 5,
   "metadata": {},
   "outputs": [
    {
     "name": "stdout",
     "output_type": "stream",
     "text": [
      "tp:1091, tn:2121, fp:279, fn:109\n",
      "Precision: 0.7963503649053758, Recall: 0.9091666665909027\n"
     ]
    }
   ],
   "source": [
    "mc_calibration_set = np.load(\"/DB/data/yanghengzhao/adversarial/DAMC/yanghengzhao/disco-net/match_costs_validation.npy\")\n",
    "threshold = np.percentile(mc_calibration_set, 95)\n",
    "pred = mc_score > threshold\n",
    "\n",
    "tp = ((label == 1) & (pred == 1)).sum()\n",
    "tn = ((label == 0) & (pred == 0)).sum()\n",
    "fp = ((label == 0) & (pred == 1)).sum()\n",
    "fn = ((label == 1) & (pred == 0)).sum()\n",
    "\n",
    "print(f\"tp:{tp}, tn:{tn}, fp:{fp}, fn:{fn}\")\n",
    "print(f\"Precision: {tp / (tp + fp + 1e-7)}, Recall: {tp / (tp + fn + 1e-7)}\")"
   ]
  },
  {
   "cell_type": "code",
   "execution_count": 4,
   "metadata": {},
   "outputs": [],
   "source": [
    "agent4_aps = aps['agent4_APs']\n",
    "all_aps = aps['all_APs']"
   ]
  },
  {
   "cell_type": "code",
   "execution_count": 5,
   "metadata": {},
   "outputs": [],
   "source": [
    "# aps = agent4_aps[0]\n",
    "single_APs = []\n",
    "fused_APs = []\n",
    "for aps in agent4_aps:\n",
    "    num_agent = len(aps)\n",
    "    single_ap = np.array(aps[0])\n",
    "    single_ap = np.concatenate([single_ap for _ in range(num_agent-1)])\n",
    "    fused_ap = np.array(aps[1:])\n",
    "    fused_ap = fused_ap.flatten()\n",
    "    single_APs.append(single_ap)\n",
    "    fused_APs.append(fused_ap)\n",
    "# print(single_ap)\n",
    "# print(fused_ap)\n",
    "single_APs = np.concatenate(single_APs)\n",
    "fused_APs = np.concatenate(fused_APs)"
   ]
  },
  {
   "cell_type": "code",
   "execution_count": 12,
   "metadata": {},
   "outputs": [],
   "source": [
    "relabel = (single_APs - fused_APs > 0.05) & (label == 1)"
   ]
  },
  {
   "cell_type": "code",
   "execution_count": 13,
   "metadata": {},
   "outputs": [
    {
     "name": "stdout",
     "output_type": "stream",
     "text": [
      "tp:911, tn:2358, fp:300, fn:31\n",
      "Precision: 0.7522708504746266, Recall: 0.9670912950141093\n"
     ]
    }
   ],
   "source": [
    "tp = ((relabel == 1) & (mc_pred == 1)).sum()\n",
    "tn = ((relabel == 0) & (mc_pred == 0)).sum()\n",
    "fp = ((relabel == 0) & (mc_pred == 1)).sum()\n",
    "fn = ((relabel == 1) & (mc_pred == 0)).sum()\n",
    "\n",
    "print(f\"tp:{tp}, tn:{tn}, fp:{fp}, fn:{fn}\")\n",
    "print(f\"Precision: {tp / (tp + fp + 1e-7)}, Recall: {tp / (tp + fn + 1e-7)}\")"
   ]
  },
  {
   "cell_type": "code",
   "execution_count": 14,
   "metadata": {},
   "outputs": [
    {
     "name": "stdout",
     "output_type": "stream",
     "text": [
      "tp:915, tn:2374, fp:284, fn:27\n",
      "Precision: 0.7631359465585374, Recall: 0.97133757951472\n"
     ]
    }
   ],
   "source": [
    "tp = ((relabel == 1) & (mt_pred == 1)).sum()\n",
    "tn = ((relabel == 0) & (mt_pred == 0)).sum()\n",
    "fp = ((relabel == 0) & (mt_pred == 1)).sum()\n",
    "fn = ((relabel == 1) & (mt_pred == 0)).sum()\n",
    "\n",
    "print(f\"tp:{tp}, tn:{tn}, fp:{fp}, fn:{fn}\")\n",
    "print(f\"Precision: {tp / (tp + fp + 1e-7)}, Recall: {tp / (tp + fn + 1e-7)}\")"
   ]
  },
  {
   "cell_type": "code",
   "execution_count": null,
   "metadata": {},
   "outputs": [],
   "source": [
    "len(mc_pred)"
   ]
  },
  {
   "cell_type": "code",
   "execution_count": null,
   "metadata": {},
   "outputs": [],
   "source": [
    "((single_APs < fused_APs) & (label == 1)).sum()"
   ]
  },
  {
   "cell_type": "code",
   "execution_count": null,
   "metadata": {},
   "outputs": [],
   "source": [
    "mc_pred[(single_APs < fused_APs) & (label == 1)].sum()"
   ]
  },
  {
   "cell_type": "code",
   "execution_count": null,
   "metadata": {},
   "outputs": [],
   "source": [
    "mt_pred[(single_APs < fused_APs) & (label == 1)].sum()"
   ]
  },
  {
   "cell_type": "code",
   "execution_count": null,
   "metadata": {},
   "outputs": [],
   "source": []
  },
  {
   "cell_type": "markdown",
   "metadata": {},
   "source": [
    "## ROC curve of multi-test"
   ]
  },
  {
   "cell_type": "code",
   "execution_count": 10,
   "metadata": {},
   "outputs": [],
   "source": [
    "# load score\n",
    "with open(\"/DB/data/yanghengzhao/adversarial/DAMC/yanghengzhao/disco-net/experiments/multi-test-raev2/N01_E1e-01_S10/result.pkl\", 'rb') as f:\n",
    "    result = pickle.load(f)\n",
    "\n",
    "score = np.concatenate([s for s in result['score'] if len(s) == 12])\n",
    "label = np.concatenate([l for l in result['label'] if len(l) == 12])\n",
    "pred = np.concatenate([p for p in result['pred'] if len(p) == 12])\n"
   ]
  },
  {
   "cell_type": "code",
   "execution_count": 12,
   "metadata": {},
   "outputs": [
    {
     "name": "stderr",
     "output_type": "stream",
     "text": [
      "/GPFS/data/yanghengzhao/point/env/disco/lib/python3.7/site-packages/ipykernel_launcher.py:20: DeprecationWarning: `np.int` is a deprecated alias for the builtin `int`. To silence this warning, use `int` by itself. Doing this will not modify any behavior and is safe. When replacing `np.int`, you may wish to use e.g. `np.int64` or `np.int32` to specify the precision. If you wish to review your current use, check the release note link for additional information.\n",
      "Deprecated in NumPy 1.20; for more details and guidance: https://numpy.org/devdocs/release/1.20.0-notes.html#deprecations\n"
     ]
    }
   ],
   "source": [
    "# BH procedure\n",
    "import sys\n",
    "sys.path.append(\"../\")\n",
    "from utils.bh_procedure import BH\n",
    "sys.path.pop()\n",
    "\n",
    "dists = []\n",
    "dists.append(np.load(\"/DB/data/yanghengzhao/adversarial/DAMC/yanghengzhao/disco-net/match_costs_validation.npy\"))\n",
    "dists.append(np.load(\"/DB/data/yanghengzhao/adversarial/DAMC/yanghengzhao/disco-net/mreconstruction_loss_validation_v2.npy\"))\n",
    "\n",
    "bh_test = BH(dists, 0.05)\n",
    "is_attacker = []\n",
    "for s in score:\n",
    "    rejected = bh_test.test(s)\n",
    "    if len(rejected) > 0:\n",
    "        is_attacker.append(1)\n",
    "    else:\n",
    "        is_attacker.append(0)\n",
    "\n",
    "is_attacker = np.array(is_attacker, dtype=np.int64)"
   ]
  },
  {
   "cell_type": "code",
   "execution_count": 78,
   "metadata": {},
   "outputs": [],
   "source": [
    "def multi_test(dists, fdr, label, score):\n",
    "    bh_test = BH(dists, fdr)\n",
    "    is_attacker = []\n",
    "    for s in score:\n",
    "        rejected = bh_test.test(s)\n",
    "        if len(rejected) > 0:\n",
    "            is_attacker.append(1)\n",
    "        else:\n",
    "            is_attacker.append(0)\n",
    "    is_attacker = np.array(is_attacker, dtype=np.int64)\n",
    "    pred = is_attacker\n",
    "    \n",
    "    tp = ((label == 1) & (pred == 1)).sum()\n",
    "    tn = ((label == 0) & (pred == 0)).sum()\n",
    "    fp = ((label == 0) & (pred == 1)).sum()\n",
    "    fn = ((label == 1) & (pred == 0)).sum()\n",
    "    tpr = tp / (tp + fn + 1e-7)\n",
    "    fpr = fp / (fp + tn + 1e-7)\n",
    "    return tpr, fpr"
   ]
  },
  {
   "cell_type": "code",
   "execution_count": 42,
   "metadata": {},
   "outputs": [],
   "source": [
    "tprs = []\n",
    "fprs = []\n",
    "\n",
    "for fdr in np.linspace(0, 2.2, 200):\n",
    "    tpr, fpr = multi_test(dists, fdr)\n",
    "    # print(f\"fdr:{fdr}, tpr:{tpr}, fpr:{fpr}\")\n",
    "    tprs.append(tpr)\n",
    "    fprs.append(fpr)\n",
    "tprs = np.array(tprs)\n",
    "fprs = np.array(fprs)"
   ]
  },
  {
   "cell_type": "code",
   "execution_count": 43,
   "metadata": {},
   "outputs": [
    {
     "data": {
      "image/png": "[encoded data removed]",
      "text/plain": [
       "<Figure size 640x480 with 1 Axes>"
      ]
     },
     "metadata": {},
     "output_type": "display_data"
    }
   ],
   "source": [
    "plt.plot(fprs, tprs)\n",
    "plt.xlabel(\"FPR\",fontsize=15)\n",
    "plt.ylabel(\"TPR\",fontsize=15)\n",
    "plt.show()"
   ]
  },
  {
   "cell_type": "markdown",
   "metadata": {},
   "source": [
    "## ROC curve of match cost"
   ]
  },
  {
   "cell_type": "code",
   "execution_count": 21,
   "metadata": {},
   "outputs": [],
   "source": [
    "# load score\n",
    "with open(\"/DB/data/yanghengzhao/adversarial/DAMC/yanghengzhao/disco-net/experiments/match_cost_v2/N01_E1e-01_S10/result.pkl\", 'rb') as f:\n",
    "    result = pickle.load(f)\n",
    "\n",
    "mc_score = np.concatenate([s for s in result['score'] if len(s) == 12])\n",
    "mc_label = np.concatenate([l for l in result['label'] if len(l) == 12])\n",
    "mc_pred = np.concatenate([p for p in result['pred'] if len(p) == 12])"
   ]
  },
  {
   "cell_type": "code",
   "execution_count": 53,
   "metadata": {},
   "outputs": [
    {
     "data": {
      "image/png": "[encoded data removed]",
      "text/plain": [
       "<Figure size 640x480 with 1 Axes>"
      ]
     },
     "metadata": {},
     "output_type": "display_data"
    }
   ],
   "source": [
    "from sklearn import metrics\n",
    "fpr, tpr, thresholds = metrics.roc_curve(mc_label, mc_score)\n",
    "# auc = metrics.auc(fpr, tpr)\n",
    "plt.plot(fpr, tpr, label=f\"match cost, auc={metrics.auc(fpr, tpr):.04f}\")\n",
    "plt.plot(fprs, tprs, label=f\"multi test, auc={metrics.auc(fprs, tprs):.04f}\")\n",
    "plt.xlabel(\"FPR\",fontsize=15)\n",
    "plt.ylabel(\"TPR\",fontsize=15)\n",
    "plt.legend()\n",
    "plt.show()"
   ]
  },
  {
   "cell_type": "code",
   "execution_count": 45,
   "metadata": {},
   "outputs": [
    {
     "data": {
      "text/plain": [
       "0.9616149305555556"
      ]
     },
     "execution_count": 45,
     "metadata": {},
     "output_type": "execute_result"
    }
   ],
   "source": [
    "metrics.auc(fpr, tpr)"
   ]
  },
  {
   "cell_type": "code",
   "execution_count": 51,
   "metadata": {},
   "outputs": [
    {
     "data": {
      "text/plain": [
       "0.9476243054798281"
      ]
     },
     "execution_count": 51,
     "metadata": {},
     "output_type": "execute_result"
    }
   ],
   "source": [
    "metrics.auc(fprs, tprs)"
   ]
  },
  {
   "cell_type": "code",
   "execution_count": 50,
   "metadata": {},
   "outputs": [],
   "source": [
    "tprs = np.r_[tprs, 1.0]\n",
    "fprs = np.r_[fprs, 1.0]"
   ]
  },
  {
   "cell_type": "code",
   "execution_count": 54,
   "metadata": {},
   "outputs": [],
   "source": [
    "from sklearn import metrics"
   ]
  },
  {
   "cell_type": "code",
   "execution_count": 91,
   "metadata": {},
   "outputs": [],
   "source": [
    "def roc_compare(mc_file, mt_file, ap_file=None):\n",
    "    with open(mc_file, 'rb') as f:\n",
    "        result = pickle.load(f)\n",
    "    mc_score = np.concatenate([s for s in result['score'] if len(s) == 12])\n",
    "    mc_label = np.concatenate([l for l in result['label'] if len(l) == 12])\n",
    "    mc_pred = np.concatenate([p for p in result['pred'] if len(p) == 12])\n",
    "    \n",
    "    with open(mt_file, 'rb') as f:\n",
    "        result = pickle.load(f)\n",
    "    mt_score = np.concatenate([s for s in result['score'] if len(s) == 12])\n",
    "    mt_label = np.concatenate([l for l in result['label'] if len(l) == 12])\n",
    "    mt_pred = np.concatenate([p for p in result['pred'] if len(p) == 12])\n",
    "    \n",
    "    assert np.all(mc_label == mt_label)\n",
    "\n",
    "    label = mc_label\n",
    "    if ap_file is not None:\n",
    "        with open(ap_file, 'rb') as f:\n",
    "            aps = pickle.load(f)\n",
    "        agent4_aps = aps['agent4_APs']\n",
    "\n",
    "        single_APs = []\n",
    "        fused_APs = []\n",
    "        for aps in agent4_aps:\n",
    "            num_agent = len(aps)\n",
    "            single_ap = np.array(aps[0])\n",
    "            single_ap = np.concatenate([single_ap for _ in range(num_agent-1)])\n",
    "            fused_ap = np.array(aps[1:])\n",
    "            fused_ap = fused_ap.flatten()\n",
    "            single_APs.append(single_ap)\n",
    "            fused_APs.append(fused_ap)\n",
    "        single_APs = np.concatenate(single_APs)\n",
    "        fused_APs = np.concatenate(fused_APs)\n",
    "\n",
    "        relabel = (single_APs - fused_APs > 0.05) & (label == 1)\n",
    "        label = relabel\n",
    "    \n",
    "    fpr, tpr, thresholds = metrics.roc_curve(label, mc_score)\n",
    "    plt.plot(fpr, tpr, label=f\"match cost, auc={metrics.auc(fpr, tpr):.04f}\")\n",
    "    \n",
    "    tprs = []\n",
    "    fprs = []    \n",
    "    for fdr in np.linspace(0, 2.2, 2000):\n",
    "        tpr, fpr = multi_test(dists, fdr, label, mt_score)\n",
    "        tprs.append(tpr)\n",
    "        fprs.append(fpr)\n",
    "    tprs = np.array(tprs)\n",
    "    fprs = np.array(fprs)\n",
    "    tprs = np.r_[tprs, 1.0]\n",
    "    fprs = np.r_[fprs, 1.0]\n",
    "    plt.plot(fprs, tprs, label=f\"multi test, auc={metrics.auc(fprs, tprs):.04f}\")\n",
    "    \n",
    "    plt.xlabel(\"FPR\",fontsize=15)\n",
    "    plt.ylabel(\"TPR\",fontsize=15)\n",
    "    plt.legend()\n",
    "    plt.show()\n",
    "    return tprs, fprs"
   ]
  },
  {
   "cell_type": "code",
   "execution_count": 71,
   "metadata": {},
   "outputs": [
    {
     "data": {
      "image/png": "[encoded data removed]",
      "text/plain": [
       "<Figure size 640x480 with 1 Axes>"
      ]
     },
     "metadata": {},
     "output_type": "display_data"
    }
   ],
   "source": [
    "_ = roc_compare(\"/DB/data/yanghengzhao/adversarial/DAMC/yanghengzhao/disco-net/experiments/match_cost_v2/N01_E1e-01_S10/result.pkl\",\n",
    "\"/DB/data/yanghengzhao/adversarial/DAMC/yanghengzhao/disco-net/experiments/multi-test-raev2/N01_E1e-01_S10/result.pkl\")"
   ]
  },
  {
   "cell_type": "code",
   "execution_count": 72,
   "metadata": {},
   "outputs": [
    {
     "data": {
      "image/png": "[encoded data removed]",
      "text/plain": [
       "<Figure size 640x480 with 1 Axes>"
      ]
     },
     "metadata": {},
     "output_type": "display_data"
    }
   ],
   "source": [
    "tprs, fprs = roc_compare(\"/DB/data/yanghengzhao/adversarial/DAMC/yanghengzhao/disco-net/experiments/match_cost_v2/N01_E1e-01_S10/result.pkl\",\n",
    "\"/DB/data/yanghengzhao/adversarial/DAMC/yanghengzhao/disco-net/experiments/multi-test-raev2/N01_E1e-01_S10/result.pkl\",\n",
    "\"/DB/data/yanghengzhao/adversarial/DAMC/yanghengzhao/disco-net/experiments/save_11_bboxes/N01_E1e-01_S10/AP05.pkl\")"
   ]
  },
  {
   "cell_type": "code",
   "execution_count": 92,
   "metadata": {},
   "outputs": [
    {
     "data": {
      "image/png": "[encoded data removed]",
      "text/plain": [
       "<Figure size 640x480 with 1 Axes>"
      ]
     },
     "metadata": {},
     "output_type": "display_data"
    }
   ],
   "source": [
    "tprs, fprs = roc_compare(\"/DB/data/yanghengzhao/adversarial/DAMC/yanghengzhao/disco-net/experiments/match_cost_v2/non-collaborative/N02_E1e-01_S10/result.pkl\",\n",
    "\"/DB/data/yanghengzhao/adversarial/DAMC/yanghengzhao/disco-net/experiments/multi-test-raev2/non-collaborative/N02_E1e-01_S10/result.pkl\",\n",
    "\"/DB/data/yanghengzhao/adversarial/DAMC/yanghengzhao/disco-net/experiments/save_11_bboxes/non-collaborative/N02_E1e-01_S10/AP05.pkl\")"
   ]
  },
  {
   "cell_type": "code",
   "execution_count": 80,
   "metadata": {},
   "outputs": [
    {
     "data": {
      "image/png": "[encoded data removed]",
      "text/plain": [
       "<Figure size 640x480 with 1 Axes>"
      ]
     },
     "metadata": {},
     "output_type": "display_data"
    }
   ],
   "source": [
    "tprs, fprs = roc_compare(\"/DB/data/yanghengzhao/adversarial/DAMC/yanghengzhao/disco-net/experiments/match_cost_v2/non-collaborative/N02_E1e-01_S10/result.pkl\",\n",
    "\"/DB/data/yanghengzhao/adversarial/DAMC/yanghengzhao/disco-net/experiments/multi-test-raev2/non-collaborative/N02_E1e-01_S10/result.pkl\")"
   ]
  },
  {
   "cell_type": "code",
   "execution_count": 69,
   "metadata": {},
   "outputs": [
    {
     "data": {
      "text/plain": [
       "0.9803507497074584"
      ]
     },
     "execution_count": 69,
     "metadata": {},
     "output_type": "execute_result"
    }
   ],
   "source": [
    "metrics.auc(fprs, tprs)"
   ]
  },
  {
   "cell_type": "code",
   "execution_count": 1,
   "metadata": {},
   "outputs": [
    {
     "name": "stdout",
     "output_type": "stream",
     "text": [
      "Precision: 1.0000\n",
      "\n",
      "Recall: 0.4000\n",
      "\n"
     ]
    }
   ],
   "source": [
    "# psudo code for calculate precision and recall\n",
    "import numpy as np\n",
    "\n",
    "score = np.array([0.1, 0.2, 0.3, 0.4, 0.5, 0.6, 0.7, 0.8, 0.9])  # match cost, reconstruction loss, etc\n",
    "label = np.array([0, 0, 0, 0, 1, 1, 1, 1, 1])\n",
    "threshold = 0.75\n",
    "pred = score > threshold  # for multi-test, use the rejection directly\n",
    "\n",
    "tp = ((label == 1) & (pred == 1)).sum()\n",
    "tn = ((label == 0) & (pred == 0)).sum()\n",
    "fp = ((label == 0) & (pred == 1)).sum()\n",
    "fn = ((label == 1) & (pred == 0)).sum()\n",
    "print(f\"Precision: {tp / (tp + fp + 1e-7):.04f}\\n\")\n",
    "print(f\"Recall: {tp / (tp + fn + 1e-7):.04f}\\n\")"
   ]
  },
  {
   "cell_type": "code",
   "execution_count": null,
   "metadata": {},
   "outputs": [],
   "source": []
  }
 ],
 "metadata": {
  "kernelspec": {
   "display_name": "Python 3.7.9 ('disco')",
   "language": "python",
   "name": "python3"
  },
  "language_info": {
   "codemirror_mode": {
    "name": "ipython",
    "version": 3
   },
   "file_extension": ".py",
   "mimetype": "text/x-python",
   "name": "python",
   "nbconvert_exporter": "python",
   "pygments_lexer": "ipython3",
   "version": "3.7.9"
  },
  "orig_nbformat": 4,
  "vscode": {
   "interpreter": {
    "hash": "2696ba27e33de0b46674d963d422e7f7b05a1d00b53ce28ea34243a0c36a5bfe"
   }
  }
 },
 "nbformat": 4,
 "nbformat_minor": 2
}
